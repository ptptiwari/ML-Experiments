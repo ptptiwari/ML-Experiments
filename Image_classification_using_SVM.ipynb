{
  "nbformat": 4,
  "nbformat_minor": 0,
  "metadata": {
    "colab": {
      "provenance": [],
      "authorship_tag": "ABX9TyP06vleVgupZ5MMyJ11SqZ5",
      "include_colab_link": true
    },
    "kernelspec": {
      "name": "python3",
      "display_name": "Python 3"
    },
    "language_info": {
      "name": "python"
    }
  },
  "cells": [
    {
      "cell_type": "markdown",
      "metadata": {
        "id": "view-in-github",
        "colab_type": "text"
      },
      "source": [
        "<a href=\"https://colab.research.google.com/github/ptptiwari/ML-Experiments/blob/main/Image_classification_using_SVM.ipynb\" target=\"_parent\"><img src=\"https://colab.research.google.com/assets/colab-badge.svg\" alt=\"Open In Colab\"/></a>"
      ]
    },
    {
      "cell_type": "code",
      "execution_count": null,
      "metadata": {
        "id": "AZQOjlOxoOVc"
      },
      "outputs": [],
      "source": [
        "import pandas as pd\n",
        "import os\n",
        "from skimage.transform import resize\n",
        "from skimage.io import imread\n",
        "import numpy as np\n",
        "import matplotlib.pyplot as plt\n",
        "from sklearn import svm\n",
        "from sklearn.model_selection import GridSearchCV\n",
        "from sklearn.model_selection import train_test_split\n",
        "from sklearn.metrics import classification_report\n",
        "from sklearn.metrics import accuracy_score"
      ]
    },
    {
      "cell_type": "code",
      "source": [
        "Categories =['Cats', 'Dogs']\n",
        "flat_data_arr=[]\n",
        "target_arr = []\n",
        "data_dir = 'IMAGES'\n",
        "for i in Categories:\n",
        "\n",
        "    print(\"loading\", i)\n",
        "    path = os.path.join(data_dir, i)\n",
        "    for img in os.listdir(path):\n",
        "        img_array = imread(os.path.join(path, img))\n",
        "        img_resize = resize(img_array, (150, 150, 3))\n",
        "        flat_data_arr.append(img_resize.flatten())\n",
        "        target_arr.append(Categories.index(i))\n",
        "    print(\"loaded\", i)\n",
        "flat_data_arr = np.array(flat_data_arr)\n",
        "target_arr = np.array(target_arr)"
      ],
      "metadata": {
        "id": "QkNHslkxumMc"
      },
      "execution_count": null,
      "outputs": []
    },
    {
      "cell_type": "code",
      "metadata": {
        "id": "67b078cd"
      },
      "source": [
        "# Create the necessary directories if they don't exist\n",
        "os.makedirs('IMAGES/Cats', exist_ok=True)\n",
        "os.makedirs('IMAGES/Dogs', exist_ok=True)\n",
        "print(\"Directories 'IMAGES/Cats' and 'IMAGES/Dogs' created. Please upload your image files into these directories.\")"
      ],
      "execution_count": null,
      "outputs": []
    },
    {
      "cell_type": "code",
      "source": [
        "#dataframe\n",
        "df=pd.DataFrame(flat_data_arr)\n",
        "df['Target']=target_arr\n",
        "df.shape"
      ],
      "metadata": {
        "id": "CWITAX0B894l"
      },
      "execution_count": null,
      "outputs": []
    },
    {
      "cell_type": "code",
      "source": [
        "x = df.iloc[:, :-1]\n",
        "y = df['Target']"
      ],
      "metadata": {
        "id": "aBAZlvBsABUm"
      },
      "execution_count": null,
      "outputs": []
    },
    {
      "cell_type": "code",
      "source": [
        "# Splitting the data into training and testing sets\n",
        "x_train, x_test, y_train, y_test = train_test_split(x, y, test_size=0.20, shuffle=False)\n"
      ],
      "metadata": {
        "id": "_0SHmS2jDLie"
      },
      "execution_count": null,
      "outputs": []
    },
    {
      "cell_type": "code",
      "source": [
        "# Defining the parameters grid for GridSearchCV\n",
        "param_grid={'C':[0.1,1,10,100],\n",
        "            'gamma':[0.0001,0.001,0.1,1],\n",
        "            'kernel':['rbf','poly']}\n",
        "\n",
        "# Creating a support vector classifier\n",
        "svc=svm.SVC(probability=True)\n",
        "\n",
        "# Creating a model using GridSearchCV with the parameters grid\n",
        "model=GridSearchCV(svc,param_grid)"
      ],
      "metadata": {
        "id": "6fv1FNmyDvht"
      },
      "execution_count": null,
      "outputs": []
    },
    {
      "cell_type": "code",
      "source": [
        "# Training the model using the training data\n",
        "model.fit(x_train,y_train)"
      ],
      "metadata": {
        "id": "3CjhgmxfGWko"
      },
      "execution_count": null,
      "outputs": []
    },
    {
      "cell_type": "code",
      "source": [
        "# Testing the model using the testing data\n",
        "y_pred = model.predict(x_test)\n",
        "\n",
        "# Calculating the accuracy of the model\n",
        "accuracy = accuracy_score(y_pred, y_test)\n",
        "\n",
        "# Print the accuracy of the model\n",
        "print(f\"The model is {accuracy*100}% accurate\")"
      ],
      "metadata": {
        "id": "5pdlFXDrJ-Yk"
      },
      "execution_count": null,
      "outputs": []
    }
  ]
}